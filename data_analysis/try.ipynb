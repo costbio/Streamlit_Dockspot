{
 "cells": [
  {
   "cell_type": "code",
   "execution_count": 4,
   "metadata": {},
   "outputs": [
    {
     "name": "stdout",
     "output_type": "stream",
     "text": [
      "\n",
      " OpenBabel02162518572D\n",
      "\n",
      "  3  2  0  0  0  0  0  0  0  0999 V2000\n",
      "    0.0000    0.0000    0.0000 C   0  0  0  0  0  0  0  0  0  0  0  0\n",
      "    0.0000    0.0000    0.0000 C   0  0  0  0  0  0  0  0  0  0  0  0\n",
      "    0.0000    0.0000    0.0000 O   0  0  0  0  0  0  0  0  0  0  0  0\n",
      "  1  2  1  0  0  0  0\n",
      "  2  3  1  0  0  0  0\n",
      "M  END\n",
      "\n"
     ]
    }
   ],
   "source": [
    "import openbabel\n",
    "\n",
    "# Create an OBConversion object\n",
    "obConversion = openbabel.OBConversion()\n",
    "obConversion.SetInAndOutFormats(\"smi\", \"mol\")\n",
    "\n",
    "# Create a molecule object\n",
    "mol = openbabel.OBMol()\n",
    "\n",
    "# Read a SMILES string\n",
    "smiles = \"CCO\"\n",
    "obConversion.ReadString(mol, smiles)\n",
    "\n",
    "# Convert the molecule to MOL format\n",
    "mol_string = obConversion.WriteString(mol)\n",
    "\n",
    "print(mol_string)"
   ]
  },
  {
   "cell_type": "code",
   "execution_count": 9,
   "metadata": {},
   "outputs": [
    {
     "name": "stdout",
     "output_type": "stream",
     "text": [
      "Collecting openbabel\n",
      "  Using cached openbabel-3.1.1.1.tar.gz (82 kB)\n",
      "  Installing build dependencies ... \u001b[?25ldone\n",
      "\u001b[?25h  Getting requirements to build wheel ... \u001b[?25ldone\n",
      "\u001b[?25h  Preparing metadata (pyproject.toml) ... \u001b[?25ldone\n",
      "\u001b[?25hBuilding wheels for collected packages: openbabel\n",
      "  Building wheel for openbabel (pyproject.toml) ... \u001b[?25lerror\n",
      "  \u001b[1;31merror\u001b[0m: \u001b[1msubprocess-exited-with-error\u001b[0m\n",
      "  \n",
      "  \u001b[31m×\u001b[0m \u001b[32mBuilding wheel for openbabel \u001b[0m\u001b[1;32m(\u001b[0m\u001b[32mpyproject.toml\u001b[0m\u001b[1;32m)\u001b[0m did not run successfully.\n",
      "  \u001b[31m│\u001b[0m exit code: \u001b[1;36m1\u001b[0m\n",
      "  \u001b[31m╰─>\u001b[0m \u001b[31m[19 lines of output]\u001b[0m\n",
      "  \u001b[31m   \u001b[0m running bdist_wheel\n",
      "  \u001b[31m   \u001b[0m running build\n",
      "  \u001b[31m   \u001b[0m running build_ext\n",
      "  \u001b[31m   \u001b[0m Warning: invalid version number '3.1.1.1'.\n",
      "  \u001b[31m   \u001b[0m Guessing Open Babel location:\n",
      "  \u001b[31m   \u001b[0m - include_dirs: ['/home/bogrum/Streamlit_Dockspot/myenv/include', '/home/bogrum/miniconda3/include/python3.10', '/usr/local/include/openbabel3']\n",
      "  \u001b[31m   \u001b[0m - library_dirs: ['/usr/local/lib']\n",
      "  \u001b[31m   \u001b[0m building 'openbabel._openbabel' extension\n",
      "  \u001b[31m   \u001b[0m swigging openbabel/openbabel-python.i to openbabel/openbabel-python_wrap.cpp\n",
      "  \u001b[31m   \u001b[0m swig -python -c++ -small -O -templatereduce -naturalvar -I/home/bogrum/Streamlit_Dockspot/myenv/include -I/home/bogrum/miniconda3/include/python3.10 -I/usr/local/include/openbabel3 -o openbabel/openbabel-python_wrap.cpp openbabel/openbabel-python.i\n",
      "  \u001b[31m   \u001b[0m Traceback (most recent call last):\n",
      "  \u001b[31m   \u001b[0m   File \"/home/bogrum/Streamlit_Dockspot/myenv/bin/swig\", line 5, in <module>\n",
      "  \u001b[31m   \u001b[0m     from swig import swig\n",
      "  \u001b[31m   \u001b[0m ModuleNotFoundError: No module named 'swig'\n",
      "  \u001b[31m   \u001b[0m \n",
      "  \u001b[31m   \u001b[0m Error: SWIG failed. Is Open Babel installed?\n",
      "  \u001b[31m   \u001b[0m You may need to manually specify the location of Open Babel include and library directories. For example:\n",
      "  \u001b[31m   \u001b[0m   python setup.py build_ext -I/usr/local/include/openbabel3 -L/usr/local/lib\n",
      "  \u001b[31m   \u001b[0m   python setup.py install\n",
      "  \u001b[31m   \u001b[0m \u001b[31m[end of output]\u001b[0m\n",
      "  \n",
      "  \u001b[1;35mnote\u001b[0m: This error originates from a subprocess, and is likely not a problem with pip.\n",
      "\u001b[?25h\u001b[31m  ERROR: Failed building wheel for openbabel\u001b[0m\u001b[31m\n",
      "\u001b[0mFailed to build openbabel\n",
      "\u001b[31mERROR: Failed to build installable wheels for some pyproject.toml based projects (openbabel)\u001b[0m\u001b[31m\n",
      "\u001b[0m"
     ]
    }
   ],
   "source": [
    "!pip install openbabel"
   ]
  },
  {
   "cell_type": "code",
   "execution_count": 3,
   "metadata": {},
   "outputs": [
    {
     "name": "stdout",
     "output_type": "stream",
     "text": [
      "Error while loading conda entry point: conda-libmamba-solver (libarchive.so.20: cannot open shared object file: No such file or directory)\n",
      "\n",
      "CondaValueError: You have chosen a non-default solver backend (libmamba) but it was not recognized. Choose one of: classic\n",
      "\n"
     ]
    }
   ],
   "source": [
    "!conda install -c conda-forge openbabel -y"
   ]
  },
  {
   "cell_type": "code",
   "execution_count": 4,
   "metadata": {},
   "outputs": [
    {
     "name": "stdout",
     "output_type": "stream",
     "text": [
      "Error while loading conda entry point: conda-libmamba-solver (libarchive.so.20: cannot open shared object file: No such file or directory)\n"
     ]
    }
   ],
   "source": [
    "!conda config --set solver classic"
   ]
  },
  {
   "cell_type": "code",
   "execution_count": 8,
   "metadata": {},
   "outputs": [
    {
     "ename": "ModuleNotFoundError",
     "evalue": "No module named 'openbabel'",
     "output_type": "error",
     "traceback": [
      "\u001b[0;31m---------------------------------------------------------------------------\u001b[0m",
      "\u001b[0;31mModuleNotFoundError\u001b[0m                       Traceback (most recent call last)",
      "Cell \u001b[0;32mIn[8], line 1\u001b[0m\n\u001b[0;32m----> 1\u001b[0m \u001b[38;5;28;01mimport\u001b[39;00m\u001b[38;5;250m \u001b[39m\u001b[38;5;21;01mopenbabel\u001b[39;00m\n\u001b[1;32m      2\u001b[0m \u001b[38;5;28mprint\u001b[39m(openbabel\u001b[38;5;241m.\u001b[39m__version__)\n",
      "\u001b[0;31mModuleNotFoundError\u001b[0m: No module named 'openbabel'"
     ]
    }
   ],
   "source": [
    "import openbabel\n",
    "print(openbabel.__version__)\n"
   ]
  }
 ],
 "metadata": {
  "kernelspec": {
   "display_name": "myenv",
   "language": "python",
   "name": "python3"
  },
  "language_info": {
   "codemirror_mode": {
    "name": "ipython",
    "version": 3
   },
   "file_extension": ".py",
   "mimetype": "text/x-python",
   "name": "python",
   "nbconvert_exporter": "python",
   "pygments_lexer": "ipython3",
   "version": "3.10.16"
  }
 },
 "nbformat": 4,
 "nbformat_minor": 2
}
